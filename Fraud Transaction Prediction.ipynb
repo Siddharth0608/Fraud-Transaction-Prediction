{
 "cells": [
  {
   "cell_type": "markdown",
   "id": "b81eb80d",
   "metadata": {},
   "source": [
    "# Predicting Fraudulent Transactions for a Financial Company"
   ]
  },
  {
   "cell_type": "markdown",
   "id": "b96c43fd",
   "metadata": {},
   "source": [
    "As it is Binary Classification Problem\n",
    "I will use Random Forest Classification.\n",
    "I will implement Random Forest using sci-kit learn library, which comes with a handy tool called RandomForestClassifier.\n",
    "RandomForestClassifier is supervised learning method that works on labelled dataset. It can be used on classification as well as Regression problem.\n",
    "In Random Forest Classification, multiple decision trees are created using random subsets of data and features.\n",
    "Each decision tree predicts the outcome independently and the final prediction is made based on the most popular decision among all the trees."
   ]
  },
  {
   "cell_type": "code",
   "execution_count": 2,
   "id": "e34fd620",
   "metadata": {},
   "outputs": [],
   "source": [
    "# importing essential libraries\n",
    "import csv\n",
    "import pandas as pd\n",
    "import numpy as np\n",
    "from sklearn.model_selection import train_test_split, RandomizedSearchCV\n",
    "from sklearn.preprocessing import StandardScaler\n",
    "from sklearn.ensemble import RandomForestClassifier\n",
    "import matplotlib.pyplot as plt\n",
    "from sklearn.metrics import accuracy_score, confusion_matrix, precision_score, recall_score, ConfusionMatrixDisplay, classification_report \n"
   ]
  },
  {
   "cell_type": "code",
   "execution_count": 3,
   "id": "3e6b27d6",
   "metadata": {},
   "outputs": [],
   "source": [
    "# reading the dataset\n",
    "df = pd.read_csv(\"C:\\\\Users\\siddh\\Downloads\\Fraud.csv\")"
   ]
  },
  {
   "cell_type": "markdown",
   "id": "9fa69374",
   "metadata": {},
   "source": [
    "# Data-Preprocessing"
   ]
  },
  {
   "cell_type": "markdown",
   "id": "0a528e42",
   "metadata": {},
   "source": [
    "Data preprocessing includes dealing with missing values, null values, outliers and multi-collinearity. We will be performing all the steps in the following code."
   ]
  },
  {
   "cell_type": "code",
   "execution_count": 4,
   "id": "8103f29c",
   "metadata": {},
   "outputs": [
    {
     "data": {
      "text/html": [
       "<div>\n",
       "<style scoped>\n",
       "    .dataframe tbody tr th:only-of-type {\n",
       "        vertical-align: middle;\n",
       "    }\n",
       "\n",
       "    .dataframe tbody tr th {\n",
       "        vertical-align: top;\n",
       "    }\n",
       "\n",
       "    .dataframe thead th {\n",
       "        text-align: right;\n",
       "    }\n",
       "</style>\n",
       "<table border=\"1\" class=\"dataframe\">\n",
       "  <thead>\n",
       "    <tr style=\"text-align: right;\">\n",
       "      <th></th>\n",
       "      <th>step</th>\n",
       "      <th>type</th>\n",
       "      <th>amount</th>\n",
       "      <th>nameOrig</th>\n",
       "      <th>oldbalanceOrg</th>\n",
       "      <th>newbalanceOrig</th>\n",
       "      <th>nameDest</th>\n",
       "      <th>oldbalanceDest</th>\n",
       "      <th>newbalanceDest</th>\n",
       "      <th>isFraud</th>\n",
       "      <th>isFlaggedFraud</th>\n",
       "    </tr>\n",
       "  </thead>\n",
       "  <tbody>\n",
       "    <tr>\n",
       "      <th>0</th>\n",
       "      <td>1</td>\n",
       "      <td>PAYMENT</td>\n",
       "      <td>9839.64</td>\n",
       "      <td>C1231006815</td>\n",
       "      <td>170136.0</td>\n",
       "      <td>160296.36</td>\n",
       "      <td>M1979787155</td>\n",
       "      <td>0.0</td>\n",
       "      <td>0.0</td>\n",
       "      <td>0</td>\n",
       "      <td>0</td>\n",
       "    </tr>\n",
       "    <tr>\n",
       "      <th>1</th>\n",
       "      <td>1</td>\n",
       "      <td>PAYMENT</td>\n",
       "      <td>1864.28</td>\n",
       "      <td>C1666544295</td>\n",
       "      <td>21249.0</td>\n",
       "      <td>19384.72</td>\n",
       "      <td>M2044282225</td>\n",
       "      <td>0.0</td>\n",
       "      <td>0.0</td>\n",
       "      <td>0</td>\n",
       "      <td>0</td>\n",
       "    </tr>\n",
       "    <tr>\n",
       "      <th>2</th>\n",
       "      <td>1</td>\n",
       "      <td>TRANSFER</td>\n",
       "      <td>181.00</td>\n",
       "      <td>C1305486145</td>\n",
       "      <td>181.0</td>\n",
       "      <td>0.00</td>\n",
       "      <td>C553264065</td>\n",
       "      <td>0.0</td>\n",
       "      <td>0.0</td>\n",
       "      <td>1</td>\n",
       "      <td>0</td>\n",
       "    </tr>\n",
       "    <tr>\n",
       "      <th>3</th>\n",
       "      <td>1</td>\n",
       "      <td>CASH_OUT</td>\n",
       "      <td>181.00</td>\n",
       "      <td>C840083671</td>\n",
       "      <td>181.0</td>\n",
       "      <td>0.00</td>\n",
       "      <td>C38997010</td>\n",
       "      <td>21182.0</td>\n",
       "      <td>0.0</td>\n",
       "      <td>1</td>\n",
       "      <td>0</td>\n",
       "    </tr>\n",
       "    <tr>\n",
       "      <th>4</th>\n",
       "      <td>1</td>\n",
       "      <td>PAYMENT</td>\n",
       "      <td>11668.14</td>\n",
       "      <td>C2048537720</td>\n",
       "      <td>41554.0</td>\n",
       "      <td>29885.86</td>\n",
       "      <td>M1230701703</td>\n",
       "      <td>0.0</td>\n",
       "      <td>0.0</td>\n",
       "      <td>0</td>\n",
       "      <td>0</td>\n",
       "    </tr>\n",
       "  </tbody>\n",
       "</table>\n",
       "</div>"
      ],
      "text/plain": [
       "   step      type    amount     nameOrig  oldbalanceOrg  newbalanceOrig  \\\n",
       "0     1   PAYMENT   9839.64  C1231006815       170136.0       160296.36   \n",
       "1     1   PAYMENT   1864.28  C1666544295        21249.0        19384.72   \n",
       "2     1  TRANSFER    181.00  C1305486145          181.0            0.00   \n",
       "3     1  CASH_OUT    181.00   C840083671          181.0            0.00   \n",
       "4     1   PAYMENT  11668.14  C2048537720        41554.0        29885.86   \n",
       "\n",
       "      nameDest  oldbalanceDest  newbalanceDest  isFraud  isFlaggedFraud  \n",
       "0  M1979787155             0.0             0.0        0               0  \n",
       "1  M2044282225             0.0             0.0        0               0  \n",
       "2   C553264065             0.0             0.0        1               0  \n",
       "3    C38997010         21182.0             0.0        1               0  \n",
       "4  M1230701703             0.0             0.0        0               0  "
      ]
     },
     "execution_count": 4,
     "metadata": {},
     "output_type": "execute_result"
    }
   ],
   "source": [
    "df.head()"
   ]
  },
  {
   "cell_type": "code",
   "execution_count": 5,
   "id": "b4f9c28e",
   "metadata": {},
   "outputs": [
    {
     "data": {
      "text/plain": [
       "str"
      ]
     },
     "execution_count": 5,
     "metadata": {},
     "output_type": "execute_result"
    }
   ],
   "source": [
    "type('type')\n",
    "type('nameOrig')\n",
    "type('nameDest')"
   ]
  },
  {
   "cell_type": "markdown",
   "id": "424f31ae",
   "metadata": {},
   "source": [
    "### Selecting the attributes for training the model."
   ]
  },
  {
   "cell_type": "markdown",
   "id": "81b1c8d1",
   "metadata": {},
   "source": [
    "As the columns ['type', 'nameOrig' and 'nameDest'] are of type string and not numerical, we can't use them in our prediction model. Machine learning models need numerical data to work, but we can convert 'string' into numbers using methods like hash encoding or one-hot encoding. However, features like payment type, sender's account number, and receiver's account number don't provide significant information for predicting fraud in transactions. Also 'step' is a unit of time which is also insignificant in our prediction model. Therefore, we will drop these attributes from our prediction model."
   ]
  },
  {
   "cell_type": "code",
   "execution_count": 6,
   "id": "821ac73c",
   "metadata": {},
   "outputs": [],
   "source": [
    "# Dropping the insignificant attributes\n",
    "df = df.drop(['step', 'type', 'nameOrig', 'nameDest'], axis = 1)"
   ]
  },
  {
   "cell_type": "code",
   "execution_count": 7,
   "id": "4e86a580",
   "metadata": {},
   "outputs": [
    {
     "data": {
      "text/html": [
       "<div>\n",
       "<style scoped>\n",
       "    .dataframe tbody tr th:only-of-type {\n",
       "        vertical-align: middle;\n",
       "    }\n",
       "\n",
       "    .dataframe tbody tr th {\n",
       "        vertical-align: top;\n",
       "    }\n",
       "\n",
       "    .dataframe thead th {\n",
       "        text-align: right;\n",
       "    }\n",
       "</style>\n",
       "<table border=\"1\" class=\"dataframe\">\n",
       "  <thead>\n",
       "    <tr style=\"text-align: right;\">\n",
       "      <th></th>\n",
       "      <th>amount</th>\n",
       "      <th>oldbalanceOrg</th>\n",
       "      <th>newbalanceOrig</th>\n",
       "      <th>oldbalanceDest</th>\n",
       "      <th>newbalanceDest</th>\n",
       "      <th>isFraud</th>\n",
       "      <th>isFlaggedFraud</th>\n",
       "    </tr>\n",
       "  </thead>\n",
       "  <tbody>\n",
       "    <tr>\n",
       "      <th>0</th>\n",
       "      <td>9839.64</td>\n",
       "      <td>170136.0</td>\n",
       "      <td>160296.36</td>\n",
       "      <td>0.0</td>\n",
       "      <td>0.0</td>\n",
       "      <td>0</td>\n",
       "      <td>0</td>\n",
       "    </tr>\n",
       "    <tr>\n",
       "      <th>1</th>\n",
       "      <td>1864.28</td>\n",
       "      <td>21249.0</td>\n",
       "      <td>19384.72</td>\n",
       "      <td>0.0</td>\n",
       "      <td>0.0</td>\n",
       "      <td>0</td>\n",
       "      <td>0</td>\n",
       "    </tr>\n",
       "    <tr>\n",
       "      <th>2</th>\n",
       "      <td>181.00</td>\n",
       "      <td>181.0</td>\n",
       "      <td>0.00</td>\n",
       "      <td>0.0</td>\n",
       "      <td>0.0</td>\n",
       "      <td>1</td>\n",
       "      <td>0</td>\n",
       "    </tr>\n",
       "    <tr>\n",
       "      <th>3</th>\n",
       "      <td>181.00</td>\n",
       "      <td>181.0</td>\n",
       "      <td>0.00</td>\n",
       "      <td>21182.0</td>\n",
       "      <td>0.0</td>\n",
       "      <td>1</td>\n",
       "      <td>0</td>\n",
       "    </tr>\n",
       "    <tr>\n",
       "      <th>4</th>\n",
       "      <td>11668.14</td>\n",
       "      <td>41554.0</td>\n",
       "      <td>29885.86</td>\n",
       "      <td>0.0</td>\n",
       "      <td>0.0</td>\n",
       "      <td>0</td>\n",
       "      <td>0</td>\n",
       "    </tr>\n",
       "  </tbody>\n",
       "</table>\n",
       "</div>"
      ],
      "text/plain": [
       "     amount  oldbalanceOrg  newbalanceOrig  oldbalanceDest  newbalanceDest  \\\n",
       "0   9839.64       170136.0       160296.36             0.0             0.0   \n",
       "1   1864.28        21249.0        19384.72             0.0             0.0   \n",
       "2    181.00          181.0            0.00             0.0             0.0   \n",
       "3    181.00          181.0            0.00         21182.0             0.0   \n",
       "4  11668.14        41554.0        29885.86             0.0             0.0   \n",
       "\n",
       "   isFraud  isFlaggedFraud  \n",
       "0        0               0  \n",
       "1        0               0  \n",
       "2        1               0  \n",
       "3        1               0  \n",
       "4        0               0  "
      ]
     },
     "execution_count": 7,
     "metadata": {},
     "output_type": "execute_result"
    }
   ],
   "source": [
    "df.head()"
   ]
  },
  {
   "cell_type": "markdown",
   "id": "f70e1fb7",
   "metadata": {},
   "source": [
    "Now we can start checking the data for null or missing values."
   ]
  },
  {
   "cell_type": "code",
   "execution_count": 8,
   "id": "97460038",
   "metadata": {},
   "outputs": [
    {
     "data": {
      "text/plain": [
       "amount            0\n",
       "oldbalanceOrg     0\n",
       "newbalanceOrig    0\n",
       "oldbalanceDest    0\n",
       "newbalanceDest    0\n",
       "isFraud           0\n",
       "isFlaggedFraud    0\n",
       "dtype: int64"
      ]
     },
     "execution_count": 8,
     "metadata": {},
     "output_type": "execute_result"
    }
   ],
   "source": [
    "df.isnull().sum()"
   ]
  },
  {
   "cell_type": "markdown",
   "id": "39422b5c",
   "metadata": {},
   "source": [
    "As there are no null values in the data, we don't have to worry about dealing wiht the missing values"
   ]
  },
  {
   "cell_type": "markdown",
   "id": "deca75a9",
   "metadata": {},
   "source": [
    "Let's take a look on total number of fraud transaction and non_fraud transaction"
   ]
  },
  {
   "cell_type": "code",
   "execution_count": 9,
   "id": "87569501",
   "metadata": {},
   "outputs": [
    {
     "data": {
      "text/plain": [
       "8213"
      ]
     },
     "execution_count": 9,
     "metadata": {},
     "output_type": "execute_result"
    }
   ],
   "source": [
    "df['isFraud'].sum()"
   ]
  },
  {
   "cell_type": "markdown",
   "id": "5ae666b5",
   "metadata": {},
   "source": [
    "As there are only 8,213 fraud transactions in the dataset, the remaining 6,354,407 transactions are non-fraudulent. This makes the dataset highly unbalanced and will also take a lot of time to train. If we proceed without addressing this issue, our model will underfit, as there is not enough fraud transaction data for the model to learn effectively. We could balance the dataset by sampling the fraud transactions again, but that would require a significant amount of time. Therefore, we will be dropping the majority of the dataset and only keeping around 12,000 non-fraud transactions. By doing this, the difference in the number of fraud and non-fraud transactions becomes very small, which is sufficient to train the model efficiently.\n"
   ]
  },
  {
   "cell_type": "code",
   "execution_count": null,
   "id": "11aa7e2d",
   "metadata": {},
   "outputs": [],
   "source": []
  },
  {
   "cell_type": "code",
   "execution_count": 10,
   "id": "147f1660",
   "metadata": {},
   "outputs": [],
   "source": [
    "fraud_transactions = df[df['isFraud'] == 1] # contains fraud transactions\n",
    "non_fraud_transactions = df[df['isFraud'] == 0] # contains non_fraud trasactions"
   ]
  },
  {
   "cell_type": "code",
   "execution_count": 11,
   "id": "2e1beba3",
   "metadata": {},
   "outputs": [],
   "source": [
    "# Selecting 12000 non_fraud_transactions from the dataset randomly\n",
    "sampled_non_fraud_transactions = non_fraud_transactions.sample(n=12000, random_state=42)"
   ]
  },
  {
   "cell_type": "code",
   "execution_count": 12,
   "id": "1638c136",
   "metadata": {},
   "outputs": [],
   "source": [
    "# Merging the Datasets together\n",
    "balanced_df = pd.concat([fraud_transactions, sampled_non_fraud_transactions])"
   ]
  },
  {
   "cell_type": "code",
   "execution_count": 13,
   "id": "a2768349",
   "metadata": {},
   "outputs": [
    {
     "data": {
      "text/html": [
       "<div>\n",
       "<style scoped>\n",
       "    .dataframe tbody tr th:only-of-type {\n",
       "        vertical-align: middle;\n",
       "    }\n",
       "\n",
       "    .dataframe tbody tr th {\n",
       "        vertical-align: top;\n",
       "    }\n",
       "\n",
       "    .dataframe thead th {\n",
       "        text-align: right;\n",
       "    }\n",
       "</style>\n",
       "<table border=\"1\" class=\"dataframe\">\n",
       "  <thead>\n",
       "    <tr style=\"text-align: right;\">\n",
       "      <th></th>\n",
       "      <th>amount</th>\n",
       "      <th>oldbalanceOrg</th>\n",
       "      <th>newbalanceOrig</th>\n",
       "      <th>oldbalanceDest</th>\n",
       "      <th>newbalanceDest</th>\n",
       "      <th>isFraud</th>\n",
       "      <th>isFlaggedFraud</th>\n",
       "    </tr>\n",
       "  </thead>\n",
       "  <tbody>\n",
       "    <tr>\n",
       "      <th>2</th>\n",
       "      <td>181.00</td>\n",
       "      <td>181.0</td>\n",
       "      <td>0.00</td>\n",
       "      <td>0.00</td>\n",
       "      <td>0.00</td>\n",
       "      <td>1</td>\n",
       "      <td>0</td>\n",
       "    </tr>\n",
       "    <tr>\n",
       "      <th>3</th>\n",
       "      <td>181.00</td>\n",
       "      <td>181.0</td>\n",
       "      <td>0.00</td>\n",
       "      <td>21182.00</td>\n",
       "      <td>0.00</td>\n",
       "      <td>1</td>\n",
       "      <td>0</td>\n",
       "    </tr>\n",
       "    <tr>\n",
       "      <th>251</th>\n",
       "      <td>2806.00</td>\n",
       "      <td>2806.0</td>\n",
       "      <td>0.00</td>\n",
       "      <td>0.00</td>\n",
       "      <td>0.00</td>\n",
       "      <td>1</td>\n",
       "      <td>0</td>\n",
       "    </tr>\n",
       "    <tr>\n",
       "      <th>252</th>\n",
       "      <td>2806.00</td>\n",
       "      <td>2806.0</td>\n",
       "      <td>0.00</td>\n",
       "      <td>26202.00</td>\n",
       "      <td>0.00</td>\n",
       "      <td>1</td>\n",
       "      <td>0</td>\n",
       "    </tr>\n",
       "    <tr>\n",
       "      <th>680</th>\n",
       "      <td>20128.00</td>\n",
       "      <td>20128.0</td>\n",
       "      <td>0.00</td>\n",
       "      <td>0.00</td>\n",
       "      <td>0.00</td>\n",
       "      <td>1</td>\n",
       "      <td>0</td>\n",
       "    </tr>\n",
       "    <tr>\n",
       "      <th>...</th>\n",
       "      <td>...</td>\n",
       "      <td>...</td>\n",
       "      <td>...</td>\n",
       "      <td>...</td>\n",
       "      <td>...</td>\n",
       "      <td>...</td>\n",
       "      <td>...</td>\n",
       "    </tr>\n",
       "    <tr>\n",
       "      <th>5630124</th>\n",
       "      <td>37872.87</td>\n",
       "      <td>71633.0</td>\n",
       "      <td>33760.13</td>\n",
       "      <td>0.00</td>\n",
       "      <td>0.00</td>\n",
       "      <td>0</td>\n",
       "      <td>0</td>\n",
       "    </tr>\n",
       "    <tr>\n",
       "      <th>3235276</th>\n",
       "      <td>199872.42</td>\n",
       "      <td>0.0</td>\n",
       "      <td>0.00</td>\n",
       "      <td>1294276.09</td>\n",
       "      <td>1789964.75</td>\n",
       "      <td>0</td>\n",
       "      <td>0</td>\n",
       "    </tr>\n",
       "    <tr>\n",
       "      <th>3481364</th>\n",
       "      <td>91048.02</td>\n",
       "      <td>103635.0</td>\n",
       "      <td>194683.02</td>\n",
       "      <td>25413.73</td>\n",
       "      <td>0.00</td>\n",
       "      <td>0</td>\n",
       "      <td>0</td>\n",
       "    </tr>\n",
       "    <tr>\n",
       "      <th>5058192</th>\n",
       "      <td>522743.18</td>\n",
       "      <td>0.0</td>\n",
       "      <td>0.00</td>\n",
       "      <td>964060.42</td>\n",
       "      <td>1486803.60</td>\n",
       "      <td>0</td>\n",
       "      <td>0</td>\n",
       "    </tr>\n",
       "    <tr>\n",
       "      <th>1421466</th>\n",
       "      <td>24762.16</td>\n",
       "      <td>10403.0</td>\n",
       "      <td>0.00</td>\n",
       "      <td>1559532.72</td>\n",
       "      <td>1584294.89</td>\n",
       "      <td>0</td>\n",
       "      <td>0</td>\n",
       "    </tr>\n",
       "  </tbody>\n",
       "</table>\n",
       "<p>20213 rows × 7 columns</p>\n",
       "</div>"
      ],
      "text/plain": [
       "            amount  oldbalanceOrg  newbalanceOrig  oldbalanceDest  \\\n",
       "2           181.00          181.0            0.00            0.00   \n",
       "3           181.00          181.0            0.00        21182.00   \n",
       "251        2806.00         2806.0            0.00            0.00   \n",
       "252        2806.00         2806.0            0.00        26202.00   \n",
       "680       20128.00        20128.0            0.00            0.00   \n",
       "...            ...            ...             ...             ...   \n",
       "5630124   37872.87        71633.0        33760.13            0.00   \n",
       "3235276  199872.42            0.0            0.00      1294276.09   \n",
       "3481364   91048.02       103635.0       194683.02        25413.73   \n",
       "5058192  522743.18            0.0            0.00       964060.42   \n",
       "1421466   24762.16        10403.0            0.00      1559532.72   \n",
       "\n",
       "         newbalanceDest  isFraud  isFlaggedFraud  \n",
       "2                  0.00        1               0  \n",
       "3                  0.00        1               0  \n",
       "251                0.00        1               0  \n",
       "252                0.00        1               0  \n",
       "680                0.00        1               0  \n",
       "...                 ...      ...             ...  \n",
       "5630124            0.00        0               0  \n",
       "3235276      1789964.75        0               0  \n",
       "3481364            0.00        0               0  \n",
       "5058192      1486803.60        0               0  \n",
       "1421466      1584294.89        0               0  \n",
       "\n",
       "[20213 rows x 7 columns]"
      ]
     },
     "execution_count": 13,
     "metadata": {},
     "output_type": "execute_result"
    }
   ],
   "source": [
    "balanced_df"
   ]
  },
  {
   "cell_type": "markdown",
   "id": "c5c63ee7",
   "metadata": {},
   "source": [
    "Now that we are left with only significant attributes and amount of data, we can start thinking about adding important attributes (if there are any). From my point of view, we can add two new attributes, i.e., the difference between the balances of the sender and receiver before and after the transaction. Therefore, I will be adding two new attributes named 'balDiffOri' and 'balDiffDest,' which will represent the balance difference of the sender and receiver, respectively."
   ]
  },
  {
   "cell_type": "code",
   "execution_count": 14,
   "id": "566ed85d",
   "metadata": {},
   "outputs": [],
   "source": [
    "# Adding 2 new attributes named \"balDiffOri\" and \"balDiffDest\"\n",
    "balanced_df['balDiffOri'] = balanced_df['newbalanceOrig'] - balanced_df['oldbalanceOrg']\n",
    "balanced_df['balDiffDest'] = balanced_df['newbalanceDest'] - balanced_df['oldbalanceDest']\n"
   ]
  },
  {
   "cell_type": "code",
   "execution_count": 15,
   "id": "47404071",
   "metadata": {},
   "outputs": [
    {
     "data": {
      "text/html": [
       "<div>\n",
       "<style scoped>\n",
       "    .dataframe tbody tr th:only-of-type {\n",
       "        vertical-align: middle;\n",
       "    }\n",
       "\n",
       "    .dataframe tbody tr th {\n",
       "        vertical-align: top;\n",
       "    }\n",
       "\n",
       "    .dataframe thead th {\n",
       "        text-align: right;\n",
       "    }\n",
       "</style>\n",
       "<table border=\"1\" class=\"dataframe\">\n",
       "  <thead>\n",
       "    <tr style=\"text-align: right;\">\n",
       "      <th></th>\n",
       "      <th>amount</th>\n",
       "      <th>oldbalanceOrg</th>\n",
       "      <th>newbalanceOrig</th>\n",
       "      <th>oldbalanceDest</th>\n",
       "      <th>newbalanceDest</th>\n",
       "      <th>isFraud</th>\n",
       "      <th>isFlaggedFraud</th>\n",
       "      <th>balDiffOri</th>\n",
       "      <th>balDiffDest</th>\n",
       "    </tr>\n",
       "  </thead>\n",
       "  <tbody>\n",
       "    <tr>\n",
       "      <th>2</th>\n",
       "      <td>181.0</td>\n",
       "      <td>181.0</td>\n",
       "      <td>0.0</td>\n",
       "      <td>0.0</td>\n",
       "      <td>0.0</td>\n",
       "      <td>1</td>\n",
       "      <td>0</td>\n",
       "      <td>-181.0</td>\n",
       "      <td>0.0</td>\n",
       "    </tr>\n",
       "    <tr>\n",
       "      <th>3</th>\n",
       "      <td>181.0</td>\n",
       "      <td>181.0</td>\n",
       "      <td>0.0</td>\n",
       "      <td>21182.0</td>\n",
       "      <td>0.0</td>\n",
       "      <td>1</td>\n",
       "      <td>0</td>\n",
       "      <td>-181.0</td>\n",
       "      <td>-21182.0</td>\n",
       "    </tr>\n",
       "    <tr>\n",
       "      <th>251</th>\n",
       "      <td>2806.0</td>\n",
       "      <td>2806.0</td>\n",
       "      <td>0.0</td>\n",
       "      <td>0.0</td>\n",
       "      <td>0.0</td>\n",
       "      <td>1</td>\n",
       "      <td>0</td>\n",
       "      <td>-2806.0</td>\n",
       "      <td>0.0</td>\n",
       "    </tr>\n",
       "    <tr>\n",
       "      <th>252</th>\n",
       "      <td>2806.0</td>\n",
       "      <td>2806.0</td>\n",
       "      <td>0.0</td>\n",
       "      <td>26202.0</td>\n",
       "      <td>0.0</td>\n",
       "      <td>1</td>\n",
       "      <td>0</td>\n",
       "      <td>-2806.0</td>\n",
       "      <td>-26202.0</td>\n",
       "    </tr>\n",
       "    <tr>\n",
       "      <th>680</th>\n",
       "      <td>20128.0</td>\n",
       "      <td>20128.0</td>\n",
       "      <td>0.0</td>\n",
       "      <td>0.0</td>\n",
       "      <td>0.0</td>\n",
       "      <td>1</td>\n",
       "      <td>0</td>\n",
       "      <td>-20128.0</td>\n",
       "      <td>0.0</td>\n",
       "    </tr>\n",
       "  </tbody>\n",
       "</table>\n",
       "</div>"
      ],
      "text/plain": [
       "      amount  oldbalanceOrg  newbalanceOrig  oldbalanceDest  newbalanceDest  \\\n",
       "2      181.0          181.0             0.0             0.0             0.0   \n",
       "3      181.0          181.0             0.0         21182.0             0.0   \n",
       "251   2806.0         2806.0             0.0             0.0             0.0   \n",
       "252   2806.0         2806.0             0.0         26202.0             0.0   \n",
       "680  20128.0        20128.0             0.0             0.0             0.0   \n",
       "\n",
       "     isFraud  isFlaggedFraud  balDiffOri  balDiffDest  \n",
       "2          1               0      -181.0          0.0  \n",
       "3          1               0      -181.0     -21182.0  \n",
       "251        1               0     -2806.0          0.0  \n",
       "252        1               0     -2806.0     -26202.0  \n",
       "680        1               0    -20128.0          0.0  "
      ]
     },
     "execution_count": 15,
     "metadata": {},
     "output_type": "execute_result"
    }
   ],
   "source": [
    "balanced_df.head()"
   ]
  },
  {
   "cell_type": "code",
   "execution_count": 16,
   "id": "4866152c",
   "metadata": {},
   "outputs": [],
   "source": [
    "# Reordering the data so that target attribute is in the last columns\n",
    "new_order = ['amount', 'oldbalanceOrg', 'newbalanceOrig', 'oldbalanceDest', 'newbalanceDest', 'balDiffOri', 'balDiffDest', 'isFraud', 'isFlaggedFraud']"
   ]
  },
  {
   "cell_type": "code",
   "execution_count": 17,
   "id": "bf47f955",
   "metadata": {},
   "outputs": [],
   "source": [
    "balanced_df = balanced_df[new_order]"
   ]
  },
  {
   "cell_type": "code",
   "execution_count": 18,
   "id": "71316cd6",
   "metadata": {},
   "outputs": [
    {
     "data": {
      "text/html": [
       "<div>\n",
       "<style scoped>\n",
       "    .dataframe tbody tr th:only-of-type {\n",
       "        vertical-align: middle;\n",
       "    }\n",
       "\n",
       "    .dataframe tbody tr th {\n",
       "        vertical-align: top;\n",
       "    }\n",
       "\n",
       "    .dataframe thead th {\n",
       "        text-align: right;\n",
       "    }\n",
       "</style>\n",
       "<table border=\"1\" class=\"dataframe\">\n",
       "  <thead>\n",
       "    <tr style=\"text-align: right;\">\n",
       "      <th></th>\n",
       "      <th>amount</th>\n",
       "      <th>oldbalanceOrg</th>\n",
       "      <th>newbalanceOrig</th>\n",
       "      <th>oldbalanceDest</th>\n",
       "      <th>newbalanceDest</th>\n",
       "      <th>balDiffOri</th>\n",
       "      <th>balDiffDest</th>\n",
       "      <th>isFraud</th>\n",
       "      <th>isFlaggedFraud</th>\n",
       "    </tr>\n",
       "  </thead>\n",
       "  <tbody>\n",
       "    <tr>\n",
       "      <th>2</th>\n",
       "      <td>181.0</td>\n",
       "      <td>181.0</td>\n",
       "      <td>0.0</td>\n",
       "      <td>0.0</td>\n",
       "      <td>0.0</td>\n",
       "      <td>-181.0</td>\n",
       "      <td>0.0</td>\n",
       "      <td>1</td>\n",
       "      <td>0</td>\n",
       "    </tr>\n",
       "    <tr>\n",
       "      <th>3</th>\n",
       "      <td>181.0</td>\n",
       "      <td>181.0</td>\n",
       "      <td>0.0</td>\n",
       "      <td>21182.0</td>\n",
       "      <td>0.0</td>\n",
       "      <td>-181.0</td>\n",
       "      <td>-21182.0</td>\n",
       "      <td>1</td>\n",
       "      <td>0</td>\n",
       "    </tr>\n",
       "    <tr>\n",
       "      <th>251</th>\n",
       "      <td>2806.0</td>\n",
       "      <td>2806.0</td>\n",
       "      <td>0.0</td>\n",
       "      <td>0.0</td>\n",
       "      <td>0.0</td>\n",
       "      <td>-2806.0</td>\n",
       "      <td>0.0</td>\n",
       "      <td>1</td>\n",
       "      <td>0</td>\n",
       "    </tr>\n",
       "    <tr>\n",
       "      <th>252</th>\n",
       "      <td>2806.0</td>\n",
       "      <td>2806.0</td>\n",
       "      <td>0.0</td>\n",
       "      <td>26202.0</td>\n",
       "      <td>0.0</td>\n",
       "      <td>-2806.0</td>\n",
       "      <td>-26202.0</td>\n",
       "      <td>1</td>\n",
       "      <td>0</td>\n",
       "    </tr>\n",
       "    <tr>\n",
       "      <th>680</th>\n",
       "      <td>20128.0</td>\n",
       "      <td>20128.0</td>\n",
       "      <td>0.0</td>\n",
       "      <td>0.0</td>\n",
       "      <td>0.0</td>\n",
       "      <td>-20128.0</td>\n",
       "      <td>0.0</td>\n",
       "      <td>1</td>\n",
       "      <td>0</td>\n",
       "    </tr>\n",
       "  </tbody>\n",
       "</table>\n",
       "</div>"
      ],
      "text/plain": [
       "      amount  oldbalanceOrg  newbalanceOrig  oldbalanceDest  newbalanceDest  \\\n",
       "2      181.0          181.0             0.0             0.0             0.0   \n",
       "3      181.0          181.0             0.0         21182.0             0.0   \n",
       "251   2806.0         2806.0             0.0             0.0             0.0   \n",
       "252   2806.0         2806.0             0.0         26202.0             0.0   \n",
       "680  20128.0        20128.0             0.0             0.0             0.0   \n",
       "\n",
       "     balDiffOri  balDiffDest  isFraud  isFlaggedFraud  \n",
       "2        -181.0          0.0        1               0  \n",
       "3        -181.0     -21182.0        1               0  \n",
       "251     -2806.0          0.0        1               0  \n",
       "252     -2806.0     -26202.0        1               0  \n",
       "680    -20128.0          0.0        1               0  "
      ]
     },
     "execution_count": 18,
     "metadata": {},
     "output_type": "execute_result"
    }
   ],
   "source": [
    "balanced_df.head() # balanced_df with the required order of attributes"
   ]
  },
  {
   "cell_type": "markdown",
   "id": "6c63a5a6",
   "metadata": {},
   "source": [
    "# Selecting Dependent and Independent Variables"
   ]
  },
  {
   "cell_type": "markdown",
   "id": "885c143d",
   "metadata": {},
   "source": [
    "Since, we got rid of some attributes and added few for our case.\n",
    "Now we can select Dependent variables also known as predictors and independent variable wich is also known as target vairable.\n",
    "\n",
    "'isFraud' attribute is our target variable. So will store it in variable 'x'.\n",
    "\n",
    "Other variables are predictors. So will store them in variable 'y'."
   ]
  },
  {
   "cell_type": "code",
   "execution_count": 19,
   "id": "3128561c",
   "metadata": {},
   "outputs": [
    {
     "name": "stdout",
     "output_type": "stream",
     "text": [
      "            amount  oldbalanceOrg  newbalanceOrig  oldbalanceDest  \\\n",
      "2           181.00          181.0            0.00            0.00   \n",
      "3           181.00          181.0            0.00        21182.00   \n",
      "251        2806.00         2806.0            0.00            0.00   \n",
      "252        2806.00         2806.0            0.00        26202.00   \n",
      "680       20128.00        20128.0            0.00            0.00   \n",
      "...            ...            ...             ...             ...   \n",
      "5630124   37872.87        71633.0        33760.13            0.00   \n",
      "3235276  199872.42            0.0            0.00      1294276.09   \n",
      "3481364   91048.02       103635.0       194683.02        25413.73   \n",
      "5058192  522743.18            0.0            0.00       964060.42   \n",
      "1421466   24762.16        10403.0            0.00      1559532.72   \n",
      "\n",
      "         newbalanceDest  balDiffOri  balDiffDest  \n",
      "2                  0.00     -181.00         0.00  \n",
      "3                  0.00     -181.00    -21182.00  \n",
      "251                0.00    -2806.00         0.00  \n",
      "252                0.00    -2806.00    -26202.00  \n",
      "680                0.00   -20128.00         0.00  \n",
      "...                 ...         ...          ...  \n",
      "5630124            0.00   -37872.87         0.00  \n",
      "3235276      1789964.75        0.00    495688.66  \n",
      "3481364            0.00    91048.02    -25413.73  \n",
      "5058192      1486803.60        0.00    522743.18  \n",
      "1421466      1584294.89   -10403.00     24762.17  \n",
      "\n",
      "[20213 rows x 7 columns]\n"
     ]
    }
   ],
   "source": [
    "x = balanced_df.iloc[:,0:7]\n",
    "print(x)"
   ]
  },
  {
   "cell_type": "code",
   "execution_count": 20,
   "id": "313e3186",
   "metadata": {},
   "outputs": [
    {
     "data": {
      "text/plain": [
       "2          1\n",
       "3          1\n",
       "251        1\n",
       "252        1\n",
       "680        1\n",
       "          ..\n",
       "5630124    0\n",
       "3235276    0\n",
       "3481364    0\n",
       "5058192    0\n",
       "1421466    0\n",
       "Name: isFraud, Length: 20213, dtype: int64"
      ]
     },
     "execution_count": 20,
     "metadata": {},
     "output_type": "execute_result"
    }
   ],
   "source": [
    "y = balanced_df.iloc[:, 7]\n",
    "y"
   ]
  },
  {
   "cell_type": "markdown",
   "id": "b227771e",
   "metadata": {},
   "source": [
    "# Splitting the dataset into training and testing parts for training and validation purposes."
   ]
  },
  {
   "cell_type": "code",
   "execution_count": 21,
   "id": "3d4af089",
   "metadata": {},
   "outputs": [],
   "source": [
    "X_train, X_test, Y_train, Y_test = train_test_split( x , y , test_size = 0.3, random_state = 0) # splitting the dataset into 70-30 rario"
   ]
  },
  {
   "cell_type": "markdown",
   "id": "38d44a72",
   "metadata": {},
   "source": [
    "# Initialising the RandomForestClassifier"
   ]
  },
  {
   "cell_type": "code",
   "execution_count": 22,
   "id": "b1e14820",
   "metadata": {},
   "outputs": [
    {
     "data": {
      "text/plain": [
       "RandomForestClassifier(max_depth=15, random_state=42)"
      ]
     },
     "execution_count": 22,
     "metadata": {},
     "output_type": "execute_result"
    }
   ],
   "source": [
    "model = RandomForestClassifier(n_estimators=100, random_state=42, max_depth = 15) # n_estimators refers to number of trees, max_depth refers to maximum depth of the tree and random_state refers to randomness. \n",
    "model.fit(X_train, Y_train) # Fitiing the model on the data"
   ]
  },
  {
   "cell_type": "code",
   "execution_count": 23,
   "id": "3cc06e06",
   "metadata": {},
   "outputs": [],
   "source": [
    "y_pred = model.predict(X_test) # Predicting the fraud_transaction on test dataset."
   ]
  },
  {
   "cell_type": "markdown",
   "id": "5c6efb78",
   "metadata": {},
   "source": [
    "# Estimating the Performance of the model using accuracy, precision and recall"
   ]
  },
  {
   "cell_type": "code",
   "execution_count": 24,
   "id": "26e9f501",
   "metadata": {},
   "outputs": [
    {
     "name": "stdout",
     "output_type": "stream",
     "text": [
      "Accuracy: 0.9909300791556728\n",
      "Precision: 0.9812898089171974\n",
      "Recall: 0.9967650626769107\n"
     ]
    }
   ],
   "source": [
    "accuracy = accuracy_score(Y_test, y_pred)\n",
    "precision = precision_score(Y_test, y_pred)\n",
    "recall = recall_score(Y_test, y_pred)\n",
    "\n",
    "print(\"Accuracy:\", accuracy)\n",
    "print(\"Precision:\", precision)\n",
    "print(\"Recall:\", recall)"
   ]
  },
  {
   "cell_type": "markdown",
   "id": "dc0debc0",
   "metadata": {},
   "source": [
    "# Hyper Parameter Tuning"
   ]
  },
  {
   "cell_type": "markdown",
   "id": "8963660a",
   "metadata": {},
   "source": [
    "Using 'RandomizedSearchCV,' we can provide it with a number of different combinations. It will try all the combinations and provide output with the best parameters possible from the provided list of parameters."
   ]
  },
  {
   "cell_type": "code",
   "execution_count": 25,
   "id": "90555737",
   "metadata": {},
   "outputs": [
    {
     "data": {
      "text/plain": [
       "RandomizedSearchCV(cv=5, estimator=RandomForestClassifier(), n_iter=5,\n",
       "                   param_distributions={'max_depth': [2, 5, 9, 15],\n",
       "                                        'n_estimators': [10, 50, 100, 200]})"
      ]
     },
     "execution_count": 25,
     "metadata": {},
     "output_type": "execute_result"
    }
   ],
   "source": [
    "parameters = {'n_estimators': [10, 50, 100, 200],\n",
    "              'max_depth': [2, 5, 9, 15]}\n",
    "\n",
    "rf = RandomForestClassifier()\n",
    "\n",
    "fine_model = RandomizedSearchCV(rf, \n",
    "                                 param_distributions = parameters, \n",
    "                                 n_iter=5, \n",
    "                                 cv=5)\n",
    "\n",
    "fine_model.fit(X_train, Y_train)"
   ]
  },
  {
   "cell_type": "code",
   "execution_count": 26,
   "id": "4fc2fe10",
   "metadata": {},
   "outputs": [
    {
     "name": "stdout",
     "output_type": "stream",
     "text": [
      "Best hyperparameters: {'n_estimators': 200, 'max_depth': 15}\n"
     ]
    }
   ],
   "source": [
    "best_model = fine_model.best_estimator_ # it contains the best combination of parameters\n",
    "\n",
    "print('Best hyperparameters:',  fine_model.best_params_) # we get the best parameter combination"
   ]
  },
  {
   "cell_type": "markdown",
   "id": "479d4c79",
   "metadata": {},
   "source": [
    "## Estimating performance of best model from hyper parameter tuning using confusion matrix"
   ]
  },
  {
   "cell_type": "code",
   "execution_count": 27,
   "id": "e87eb605",
   "metadata": {},
   "outputs": [
    {
     "data": {
      "image/png": "[encoded data removed]",
      "text/plain": [
       "<Figure size 432x288 with 2 Axes>"
      ]
     },
     "metadata": {
      "needs_background": "light"
     },
     "output_type": "display_data"
    }
   ],
   "source": [
    "y_pred = best_model.predict(X_test) #getting the output with best parameters\n",
    "\n",
    "cm = confusion_matrix(Y_test, y_pred) #getting the confusion matrix for best parameters\n",
    "\n",
    "ConfusionMatrixDisplay(confusion_matrix=cm).plot();"
   ]
  },
  {
   "cell_type": "markdown",
   "id": "45a802a6",
   "metadata": {},
   "source": [
    "# Plotting features importances from the model using columns names"
   ]
  },
  {
   "cell_type": "markdown",
   "id": "92707dd5",
   "metadata": {},
   "source": [
    "This bar graph explains the key factors that predict the fradulent customers. \n",
    "As we can observe from the bar graph difference between before and after the transaction of the Sender plays an important role in predicting the fraud transaction. Right after old balance of sender and amount of transaction.\n",
    "\n",
    "These factors makes sense, as for most of fraud transaction difference is 0, which means that all the money from the account has been debited and the customer is left with 0 balance."
   ]
  },
  {
   "cell_type": "code",
   "execution_count": 29,
   "id": "e5b5ce52",
   "metadata": {},
   "outputs": [
    {
     "data": {
      "image/png": "[encoded data removed]",
      "text/plain": [
       "<Figure size 432x288 with 1 Axes>"
      ]
     },
     "metadata": {
      "needs_background": "light"
     },
     "output_type": "display_data"
    }
   ],
   "source": [
    "feature_importances = pd.Series(best_model.feature_importances_, index=X_train.columns).sort_values(ascending=False)\n",
    "feature_importances.plot.bar();"
   ]
  },
  {
   "cell_type": "markdown",
   "id": "c7fb4129",
   "metadata": {},
   "source": [
    "# Preventions"
   ]
  },
  {
   "cell_type": "markdown",
   "id": "bbde4df4",
   "metadata": {},
   "source": [
    "Companies should not allow their customers to withdraw or debit their entire amount at once, as it can be used by fraudulent individuals to empty the accounts of other customers. Instead, they should keep some amount on hold for safety measures. They can also restrict large transactions at once for users who do not typically make big transactions. \n",
    "\n",
    "After these methods are implemented, we can continue analyzing the transactions and monitor the number of fraudulent transactions in a fixed amount of time, comparing it with the number of fraudulent transactions before the preventive measures were implemented."
   ]
  }
 ],
 "metadata": {
  "kernelspec": {
   "display_name": "Python 3 (ipykernel)",
   "language": "python",
   "name": "python3"
  },
  "language_info": {
   "codemirror_mode": {
    "name": "ipython",
    "version": 3
   },
   "file_extension": ".py",
   "mimetype": "text/x-python",
   "name": "python",
   "nbconvert_exporter": "python",
   "pygments_lexer": "ipython3",
   "version": "3.9.12"
  }
 },
 "nbformat": 4,
 "nbformat_minor": 5
}
